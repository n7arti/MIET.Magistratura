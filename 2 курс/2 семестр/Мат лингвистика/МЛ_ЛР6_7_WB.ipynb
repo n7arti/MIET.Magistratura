{
  "nbformat": 4,
  "nbformat_minor": 0,
  "metadata": {
    "colab": {
      "provenance": []
    },
    "kernelspec": {
      "name": "python3",
      "display_name": "Python 3"
    },
    "language_info": {
      "name": "python"
    }
  },
  "cells": [
    {
      "cell_type": "code",
      "execution_count": 14,
      "metadata": {
        "id": "ssyGR6oyzXZj"
      },
      "outputs": [],
      "source": [
        "import pandas as pd\n",
        "from sklearn.model_selection import train_test_split\n",
        "from sklearn.feature_extraction.text import TfidfVectorizer\n",
        "from sklearn.naive_bayes import MultinomialNB\n",
        "from sklearn.metrics import classification_report, accuracy_score\n",
        "import kagglehub"
      ]
    },
    {
      "cell_type": "code",
      "source": [
        "path = kagglehub.dataset_download(\"demartlectus/wildberries-search-queries-from-wildhack-2021\")\n",
        "file_path = f\"{path}/query_popularity.csv\"\n",
        "data = pd.read_csv(file_path)\n",
        "print(data.head())"
      ],
      "metadata": {
        "colab": {
          "base_uri": "https://localhost:8080/"
        },
        "id": "klx_-s7mzdg1",
        "outputId": "ab97f4bc-7204-4410-9b98-fb8d1555cd27"
      },
      "execution_count": 15,
      "outputs": [
        {
          "output_type": "stream",
          "name": "stdout",
          "text": [
            "                    query  query_popularity\n",
            "0                 ноутбук                10\n",
            "1  куртка женская осенняя                10\n",
            "2         ботинки женские                10\n",
            "3              видеокарта                10\n",
            "4  пальто женское осеннее                10\n"
          ]
        }
      ]
    },
    {
      "cell_type": "code",
      "source": [
        "# Создание целевой переменной (категории популярнсоти)\n",
        "def categorize_popularity(popularity):\n",
        "    if popularity >= 8:\n",
        "        return \"Популярный запрос\"\n",
        "    elif popularity >= 5:\n",
        "        return \"Средне популярный запрос\"\n",
        "    else:\n",
        "        return \"Не популярный запрос\"\n",
        "\n",
        "data['popularity_category'] = data['query_popularity'].apply(categorize_popularity)\n",
        "data['query'] = data['query'].fillna(\"\")\n",
        "\n",
        "# Разделение данных на обучающую и тестовую выборки\n",
        "X_train, X_test, y_train, y_test = train_test_split(data['query'], data['popularity_category'], test_size=0.2, random_state=50)\n",
        "\n",
        "# Векторизация текста\n",
        "vectorizer = TfidfVectorizer(max_features=5000)\n",
        "X_train_vec = vectorizer.fit_transform(X_train)\n",
        "X_test_vec = vectorizer.transform(X_test)\n",
        "\n",
        "# Обучение классификатора\n",
        "classifier = MultinomialNB()\n",
        "classifier.fit(X_train_vec, y_train)\n",
        "\n",
        "# Предсказание на тестовых данных\n",
        "y_pred = classifier.predict(X_test_vec)\n",
        "\n",
        "# Оценка качества модели\n",
        "print(\"Classification Report:\")\n",
        "print(classification_report(y_test, y_pred))\n",
        "print(f\"Accuracy: {accuracy_score(y_test, y_pred)}\")"
      ],
      "metadata": {
        "colab": {
          "base_uri": "https://localhost:8080/"
        },
        "id": "sRj0eJ9u0qes",
        "outputId": "39b6d6e4-ce4c-4b2c-ae99-94460afcc888"
      },
      "execution_count": 22,
      "outputs": [
        {
          "output_type": "stream",
          "name": "stdout",
          "text": [
            "Classification Report:\n",
            "                          precision    recall  f1-score   support\n",
            "\n",
            "    Не популярный запрос       0.55      0.82      0.66     27035\n",
            "       Популярный запрос       0.62      0.51      0.56     20243\n",
            "Средне популярный запрос       0.40      0.20      0.27     20120\n",
            "\n",
            "                accuracy                           0.54     67398\n",
            "               macro avg       0.52      0.51      0.49     67398\n",
            "            weighted avg       0.52      0.54      0.51     67398\n",
            "\n",
            "Accuracy: 0.5421674233656785\n"
          ]
        }
      ]
    },
    {
      "cell_type": "code",
      "source": [
        "external_data = pd.read_csv(file_path)\n",
        "external_data['popularity_category'] = external_data['query_popularity'].apply(categorize_popularity)\n",
        "external_data['query'] = external_data['query'].fillna(\"\")\n",
        "\n",
        "# Векторизация текста\n",
        "X_external_vec = vectorizer.transform(external_data['query'])\n",
        "y_external_pred = classifier.predict(X_external_vec)\n",
        "\n",
        "# Оценка качества модели на внешних данных\n",
        "print(\"External Data Classification Report:\")\n",
        "print(classification_report(external_data['popularity_category'], y_external_pred))\n",
        "print(f\"External Data Accuracy: {accuracy_score(external_data['popularity_category'], y_external_pred)}\")"
      ],
      "metadata": {
        "colab": {
          "base_uri": "https://localhost:8080/"
        },
        "id": "bds8L5FB1qMT",
        "outputId": "2ea8c6c7-c5c8-43e9-fbb8-05c17a1f2297"
      },
      "execution_count": 23,
      "outputs": [
        {
          "output_type": "stream",
          "name": "stdout",
          "text": [
            "External Data Classification Report:\n",
            "                          precision    recall  f1-score   support\n",
            "\n",
            "    Не популярный запрос       0.55      0.83      0.66    134723\n",
            "       Популярный запрос       0.62      0.52      0.57    101102\n",
            "Средне популярный запрос       0.45      0.22      0.30    101163\n",
            "\n",
            "                accuracy                           0.55    336988\n",
            "               macro avg       0.54      0.52      0.51    336988\n",
            "            weighted avg       0.54      0.55      0.53    336988\n",
            "\n",
            "External Data Accuracy: 0.5549633814853941\n"
          ]
        }
      ]
    },
    {
      "cell_type": "code",
      "source": [
        "# Функция для предсказания категории запроса\n",
        "def predict_query_category(query, vectorizer, classifier):\n",
        "    # Очистка текста (заполнение пропущенных значений, если есть)\n",
        "    query = query if isinstance(query, str) else \"\"\n",
        "\n",
        "    # Преобразование текста в числовой формат\n",
        "    query_vec = vectorizer.transform([query])\n",
        "\n",
        "    # Предсказание категории\n",
        "    predicted_category = classifier.predict(query_vec)\n",
        "\n",
        "    return predicted_category[0]\n",
        "\n",
        "# Пример использования\n",
        "user_query = input(\"Введите ваш запрос: \")  # Пользователь вводит запрос\n",
        "predicted_category = predict_query_category(user_query, vectorizer, classifier)\n",
        "print(f\"Запрос '{user_query}' относится к категории: {predicted_category}\")"
      ],
      "metadata": {
        "colab": {
          "base_uri": "https://localhost:8080/"
        },
        "id": "7npTd5CF49b8",
        "outputId": "39839f1e-784e-4c32-fa16-458fef763baf"
      },
      "execution_count": 24,
      "outputs": [
        {
          "output_type": "stream",
          "name": "stdout",
          "text": [
            "Введите ваш запрос: шуба из овечьей шерсти\n",
            "Запрос 'шуба из овечьей шерсти' относится к категории: Популярный запрос\n"
          ]
        }
      ]
    }
  ]
}