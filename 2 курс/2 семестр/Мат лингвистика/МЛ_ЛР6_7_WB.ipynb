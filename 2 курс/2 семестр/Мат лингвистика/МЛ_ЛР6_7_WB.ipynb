{
  "nbformat": 4,
  "nbformat_minor": 0,
  "metadata": {
    "colab": {
      "provenance": []
    },
    "kernelspec": {
      "name": "python3",
      "display_name": "Python 3"
    },
    "language_info": {
      "name": "python"
    }
  },
  "cells": [
    {
      "cell_type": "code",
      "execution_count": null,
      "metadata": {
        "id": "ssyGR6oyzXZj"
      },
      "outputs": [],
      "source": [
        "import pandas as pd\n",
        "from sklearn.model_selection import train_test_split\n",
        "from sklearn.feature_extraction.text import TfidfVectorizer\n",
        "from sklearn.linear_model import PassiveAggressiveClassifier\n",
        "from sklearn.metrics import classification_report, accuracy_score\n",
        "import kagglehub"
      ]
    },
    {
      "cell_type": "code",
      "source": [
        "path = kagglehub.dataset_download(\"demartlectus/wildberries-search-queries-from-wildhack-2021\")\n",
        "file_path = f\"{path}/query_popularity.csv\"\n",
        "data = pd.read_csv(file_path)\n",
        "print(data.head())"
      ],
      "metadata": {
        "colab": {
          "base_uri": "https://localhost:8080/"
        },
        "id": "klx_-s7mzdg1",
        "outputId": "92735cb3-213d-47fd-f889-5f587956eacc"
      },
      "execution_count": null,
      "outputs": [
        {
          "output_type": "stream",
          "name": "stdout",
          "text": [
            "                    query  query_popularity\n",
            "0                 ноутбук                10\n",
            "1  куртка женская осенняя                10\n",
            "2         ботинки женские                10\n",
            "3              видеокарта                10\n",
            "4  пальто женское осеннее                10\n"
          ]
        }
      ]
    },
    {
      "cell_type": "code",
      "source": [
        "# Создание целевой переменной (категории популярнсоти)\n",
        "def categorize_popularity(popularity):\n",
        "    if popularity >= 8:\n",
        "        return \"Популярный запрос\"\n",
        "    elif popularity >= 5:\n",
        "        return \"Средне популярный запрос\"\n",
        "    else:\n",
        "        return \"Не популярный запрос\"\n",
        "\n",
        "data['popularity_category'] = data['query_popularity'].apply(categorize_popularity)\n",
        "data['query'] = data['query'].fillna(\"\")\n",
        "\n",
        "# Разделение данных на обучающую и тестовую выборки\n",
        "X_train, X_test, y_train, y_test = train_test_split(data['query'], data['popularity_category'], test_size=0.2, random_state=50)\n",
        "\n",
        "# Векторизация текста\n",
        "vectorizer = TfidfVectorizer(max_features=5000)\n",
        "X_train_vec = vectorizer.fit_transform(X_train)\n",
        "X_test_vec = vectorizer.transform(X_test)\n",
        "\n",
        "# Обучение классификатора\n",
        "classifier = PassiveAggressiveClassifier()\n",
        "classifier.fit(X_train_vec, y_train)\n",
        "\n",
        "# Предсказание на тестовых данных\n",
        "y_pred = classifier.predict(X_test_vec)\n",
        "\n",
        "# Оценка качества модели\n",
        "print(\"Classification Report:\")\n",
        "print(classification_report(y_test, y_pred))\n",
        "print(f\"Accuracy: {accuracy_score(y_test, y_pred)}\")"
      ],
      "metadata": {
        "colab": {
          "base_uri": "https://localhost:8080/"
        },
        "id": "sRj0eJ9u0qes",
        "outputId": "06891686-78d6-463c-eb89-7ac1f4a7c950"
      },
      "execution_count": null,
      "outputs": [
        {
          "output_type": "stream",
          "name": "stdout",
          "text": [
            "Classification Report:\n",
            "                          precision    recall  f1-score   support\n",
            "\n",
            "    Не популярный запрос       0.58      0.59      0.59     27035\n",
            "       Популярный запрос       0.48      0.59      0.53     20243\n",
            "Средне популярный запрос       0.36      0.27      0.31     20120\n",
            "\n",
            "                accuracy                           0.50     67398\n",
            "               macro avg       0.47      0.48      0.47     67398\n",
            "            weighted avg       0.48      0.50      0.49     67398\n",
            "\n",
            "Accuracy: 0.49502952609869727\n"
          ]
        }
      ]
    },
    {
      "cell_type": "code",
      "source": [
        "external_data = pd.read_csv(file_path)\n",
        "external_data['popularity_category'] = external_data['query_popularity'].apply(categorize_popularity)\n",
        "external_data['query'] = external_data['query'].fillna(\"\")\n",
        "\n",
        "# Векторизация текста\n",
        "X_external_vec = vectorizer.transform(external_data['query'])\n",
        "y_external_pred = classifier.predict(X_external_vec)\n",
        "\n",
        "# Оценка качества модели на внешних данных\n",
        "print(\"External Data Classification Report:\")\n",
        "print(classification_report(external_data['popularity_category'], y_external_pred))\n",
        "print(f\"External Data Accuracy: {accuracy_score(external_data['popularity_category'], y_external_pred)}\")"
      ],
      "metadata": {
        "colab": {
          "base_uri": "https://localhost:8080/"
        },
        "id": "bds8L5FB1qMT",
        "outputId": "066310ab-f89b-4574-e4f8-c18690f86ea8"
      },
      "execution_count": null,
      "outputs": [
        {
          "output_type": "stream",
          "name": "stdout",
          "text": [
            "External Data Classification Report:\n",
            "                          precision    recall  f1-score   support\n",
            "\n",
            "    Не популярный запрос       0.59      0.61      0.60    134723\n",
            "       Популярный запрос       0.49      0.61      0.54    101102\n",
            "Средне популярный запрос       0.39      0.28      0.33    101163\n",
            "\n",
            "                accuracy                           0.51    336988\n",
            "               macro avg       0.49      0.50      0.49    336988\n",
            "            weighted avg       0.50      0.51      0.50    336988\n",
            "\n",
            "External Data Accuracy: 0.5094929196291856\n"
          ]
        }
      ]
    },
    {
      "cell_type": "code",
      "source": [
        "# Функция для предсказания категории запроса\n",
        "def predict_query_category(query, vectorizer, classifier):\n",
        "    # Очистка текста (заполнение пропущенных значений, если есть)\n",
        "    query = query if isinstance(query, str) else \"\"\n",
        "\n",
        "    # Преобразование текста в числовой формат\n",
        "    query_vec = vectorizer.transform([query])\n",
        "\n",
        "    # Предсказание категории\n",
        "    predicted_category = classifier.predict(query_vec)\n",
        "\n",
        "    return predicted_category[0]\n",
        "\n",
        "# Пример использования\n",
        "user_query = input(\"Введите ваш запрос: \")  # Пользователь вводит запрос\n",
        "predicted_category = predict_query_category(user_query, vectorizer, classifier)\n",
        "print(f\"Запрос '{user_query}' относится к категории: {predicted_category}\")"
      ],
      "metadata": {
        "id": "7npTd5CF49b8"
      },
      "execution_count": null,
      "outputs": []
    }
  ]
}