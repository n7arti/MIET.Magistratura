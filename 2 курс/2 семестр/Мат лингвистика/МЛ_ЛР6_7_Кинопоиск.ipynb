{
  "nbformat": 4,
  "nbformat_minor": 0,
  "metadata": {
    "colab": {
      "provenance": []
    },
    "kernelspec": {
      "name": "python3",
      "display_name": "Python 3"
    },
    "language_info": {
      "name": "python"
    }
  },
  "cells": [
    {
      "cell_type": "code",
      "source": [
        "import pandas as pd\n",
        "from sklearn.model_selection import train_test_split\n",
        "from sklearn.feature_extraction.text import TfidfVectorizer\n",
        "from sklearn.naive_bayes import MultinomialNB\n",
        "from sklearn.metrics import classification_report, accuracy_score\n",
        "import kagglehub"
      ],
      "metadata": {
        "id": "aoN_CKBPuLbx"
      },
      "execution_count": null,
      "outputs": []
    },
    {
      "cell_type": "code",
      "source": [
        "path = kagglehub.dataset_download(\"alexandertesemnikov/kinopoisktop250russiandataset\")\n",
        "file_path = f\"{path}/kinopoisk-top250.csv\"\n",
        "data = pd.read_csv(file_path)\n",
        "print(data.head())"
      ],
      "metadata": {
        "colab": {
          "base_uri": "https://localhost:8080/"
        },
        "id": "KRXC5DevuX-F",
        "outputId": "2602a805-d8b5-4e06-f85a-e99f251666c1"
      },
      "execution_count": null,
      "outputs": [
        {
          "output_type": "stream",
          "name": "stdout",
          "text": [
            "   rating               movie  year  country  rating_ball  \\\n",
            "0       0  Побег из Шоушенка   1994      США        9.111   \n",
            "1       1       Зеленая миля   1999      США        9.062   \n",
            "2       2       Форрест Гамп   1994      США        8.913   \n",
            "3       3    Список Шиндлера   1993      США        8.817   \n",
            "4       4                1+1   2011  Франция        8.807   \n",
            "\n",
            "                                            overview  \\\n",
            "0  Бухгалтер Энди Дюфрейн обвинён в убийстве собс...   \n",
            "1  Пол Эджкомб — начальник блока смертников в тюр...   \n",
            "2  От лица главного героя Форреста Гампа; слабоум...   \n",
            "3  Фильм рассказывает реальную историю загадочног...   \n",
            "4  Пострадав в результате несчастного случая; бог...   \n",
            "\n",
            "                        director  \\\n",
            "0                 Фрэнк Дарабонт   \n",
            "1                 Фрэнк Дарабонт   \n",
            "2                 Роберт Земекис   \n",
            "3                Стивен Спилберг   \n",
            "4   Оливье Накаш;  Эрик Толедано   \n",
            "\n",
            "                                        screenwriter  \\\n",
            "0                       Фрэнк Дарабонт;  Стивен Кинг   \n",
            "1                       Фрэнк Дарабонт;  Стивен Кинг   \n",
            "2                            Эрик Рот;  Уинстон Грум   \n",
            "3                     Стивен Зеллиан;  Томас Кенилли   \n",
            "4   Оливье Накаш;  Филипп Поццо ди Борго;  Эрик Т...   \n",
            "\n",
            "                                              actors  \\\n",
            "0  Тим Роббинс; Морган Фриман; Боб Гантон; Уильям...   \n",
            "1  Том Хэнкс; Дэвид Морс; Бонни Хант; Майкл Кларк...   \n",
            "2  Том Хэнкс; Робин Райт; Салли Филд; Гэри Синиз;...   \n",
            "3  Лиам Нисон; Бен Кингсли; Рэйф Файнс; Кэролайн ...   \n",
            "4  Франсуа Клюзе; Омар Си; Анн Ле Ни; Одри Флеро;...   \n",
            "\n",
            "                                            url_logo  \n",
            "0  'https://st.kp.yandex.net/images/film_iphone/i...  \n",
            "1  'https://st.kp.yandex.net/images/film_iphone/i...  \n",
            "2  'https://st.kp.yandex.net/images/film_iphone/i...  \n",
            "3  'https://st.kp.yandex.net/images/film_iphone/i...  \n",
            "4  'https://st.kp.yandex.net/images/film_iphone/i...  \n"
          ]
        }
      ]
    },
    {
      "cell_type": "code",
      "execution_count": null,
      "metadata": {
        "colab": {
          "base_uri": "https://localhost:8080/"
        },
        "id": "D8OaSBmvtXPe",
        "outputId": "33cc5cde-d953-4ec8-ed22-6887911dcb3b"
      },
      "outputs": [
        {
          "output_type": "stream",
          "name": "stdout",
          "text": [
            "Classification Report:\n",
            "              precision    recall  f1-score   support\n",
            "\n",
            "        high       0.98      1.00      0.99        49\n",
            "         low       0.00      0.00      0.00         1\n",
            "\n",
            "    accuracy                           0.98        50\n",
            "   macro avg       0.49      0.50      0.49        50\n",
            "weighted avg       0.96      0.98      0.97        50\n",
            "\n",
            "Accuracy: 0.98\n"
          ]
        },
        {
          "output_type": "stream",
          "name": "stderr",
          "text": [
            "/usr/local/lib/python3.11/dist-packages/sklearn/metrics/_classification.py:1565: UndefinedMetricWarning: Precision is ill-defined and being set to 0.0 in labels with no predicted samples. Use `zero_division` parameter to control this behavior.\n",
            "  _warn_prf(average, modifier, f\"{metric.capitalize()} is\", len(result))\n",
            "/usr/local/lib/python3.11/dist-packages/sklearn/metrics/_classification.py:1565: UndefinedMetricWarning: Precision is ill-defined and being set to 0.0 in labels with no predicted samples. Use `zero_division` parameter to control this behavior.\n",
            "  _warn_prf(average, modifier, f\"{metric.capitalize()} is\", len(result))\n",
            "/usr/local/lib/python3.11/dist-packages/sklearn/metrics/_classification.py:1565: UndefinedMetricWarning: Precision is ill-defined and being set to 0.0 in labels with no predicted samples. Use `zero_division` parameter to control this behavior.\n",
            "  _warn_prf(average, modifier, f\"{metric.capitalize()} is\", len(result))\n"
          ]
        }
      ],
      "source": [
        "# Создание целевой переменной (категории рейтинга)\n",
        "def categorize_rating(rating):\n",
        "    if rating >= 8.5:\n",
        "        return \"high\"\n",
        "    elif rating >= 7.0:\n",
        "        return \"medium\"\n",
        "    else:\n",
        "        return \"low\"\n",
        "\n",
        "data['rating_category'] = data['rating'].apply(categorize_rating)\n",
        "\n",
        "# Объединение полей 'screenwriter' и 'actors' в один текстовый признак\n",
        "data['combined_text'] = data['screenwriter'] + \" \" + data['actors']\n",
        "\n",
        "# Токенизация и нормализация текста\n",
        "data['combined_text'] = data['combined_text'].str.lower()  # Приведение к нижнему регистру\n",
        "\n",
        "# Разделение данных на обучающую и тестовую выборки\n",
        "X_train, X_test, y_train, y_test = train_test_split(data['combined_text'], data['rating_category'], test_size=0.2, random_state=42)\n",
        "\n",
        "# Векторизация текста\n",
        "vectorizer = TfidfVectorizer(max_features=5000, stop_words='english')\n",
        "X_train_vec = vectorizer.fit_transform(X_train)\n",
        "X_test_vec = vectorizer.transform(X_test)\n",
        "\n",
        "# Обучение классификатора\n",
        "classifier = MultinomialNB()\n",
        "classifier.fit(X_train_vec, y_train)\n",
        "\n",
        "# Предсказание на тестовых данных\n",
        "y_pred = classifier.predict(X_test_vec)\n",
        "\n",
        "# Оценка качества модели\n",
        "print(\"Classification Report:\")\n",
        "print(classification_report(y_test, y_pred))\n",
        "print(f\"Accuracy: {accuracy_score(y_test, y_pred)}\")"
      ]
    },
    {
      "cell_type": "code",
      "source": [
        "external_data = pd.read_csv(file_path)\n",
        "external_data['combined_text'] = external_data['screenwriter'] + \" \" + external_data['actors']\n",
        "external_data['combined_text'] = external_data['combined_text'].str.lower()\n",
        "external_data['rating_category'] = external_data['rating'].apply(categorize_rating)\n",
        "\n",
        "X_external_vec = vectorizer.transform(external_data['combined_text'])\n",
        "y_external_pred = classifier.predict(X_external_vec)\n",
        "\n",
        "print(\"External Data Classification Report:\")\n",
        "print(classification_report(external_data['rating_category'], y_external_pred))\n",
        "print(f\"External Data Accuracy: {accuracy_score(external_data['rating_category'], y_external_pred)}\")"
      ],
      "metadata": {
        "colab": {
          "base_uri": "https://localhost:8080/"
        },
        "id": "iMi_asuRynXc",
        "outputId": "79463c13-3115-47c8-9d2d-06e0355ebd07"
      },
      "execution_count": null,
      "outputs": [
        {
          "output_type": "stream",
          "name": "stdout",
          "text": [
            "External Data Classification Report:\n",
            "              precision    recall  f1-score   support\n",
            "\n",
            "        high       0.96      1.00      0.98       241\n",
            "         low       0.00      0.00      0.00         7\n",
            "      medium       0.00      0.00      0.00         2\n",
            "\n",
            "    accuracy                           0.96       250\n",
            "   macro avg       0.32      0.33      0.33       250\n",
            "weighted avg       0.93      0.96      0.95       250\n",
            "\n",
            "External Data Accuracy: 0.964\n"
          ]
        },
        {
          "output_type": "stream",
          "name": "stderr",
          "text": [
            "/usr/local/lib/python3.11/dist-packages/sklearn/metrics/_classification.py:1565: UndefinedMetricWarning: Precision is ill-defined and being set to 0.0 in labels with no predicted samples. Use `zero_division` parameter to control this behavior.\n",
            "  _warn_prf(average, modifier, f\"{metric.capitalize()} is\", len(result))\n",
            "/usr/local/lib/python3.11/dist-packages/sklearn/metrics/_classification.py:1565: UndefinedMetricWarning: Precision is ill-defined and being set to 0.0 in labels with no predicted samples. Use `zero_division` parameter to control this behavior.\n",
            "  _warn_prf(average, modifier, f\"{metric.capitalize()} is\", len(result))\n",
            "/usr/local/lib/python3.11/dist-packages/sklearn/metrics/_classification.py:1565: UndefinedMetricWarning: Precision is ill-defined and being set to 0.0 in labels with no predicted samples. Use `zero_division` parameter to control this behavior.\n",
            "  _warn_prf(average, modifier, f\"{metric.capitalize()} is\", len(result))\n"
          ]
        }
      ]
    }
  ]
}