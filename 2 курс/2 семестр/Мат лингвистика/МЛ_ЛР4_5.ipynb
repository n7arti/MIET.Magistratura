{
  "nbformat": 4,
  "nbformat_minor": 0,
  "metadata": {
    "colab": {
      "provenance": []
    },
    "kernelspec": {
      "name": "python3",
      "display_name": "Python 3"
    },
    "language_info": {
      "name": "python"
    }
  },
  "cells": [
    {
      "cell_type": "code",
      "source": [
        "!python -m spacy download ru_core_news_sm"
      ],
      "metadata": {
        "colab": {
          "base_uri": "https://localhost:8080/"
        },
        "id": "IoZ7NAWyaZS3",
        "outputId": "d662d52c-cbf2-4d36-87b8-f2e5dd72f77d",
        "collapsed": true
      },
      "execution_count": null,
      "outputs": [
        {
          "output_type": "stream",
          "name": "stdout",
          "text": [
            "Collecting ru-core-news-sm==3.7.0\n",
            "  Downloading https://github.com/explosion/spacy-models/releases/download/ru_core_news_sm-3.7.0/ru_core_news_sm-3.7.0-py3-none-any.whl (15.3 MB)\n",
            "\u001b[2K     \u001b[90m━━━━━━━━━━━━━━━━━━━━━━━━━━━━━━━━━━━━━━━━\u001b[0m \u001b[32m15.3/15.3 MB\u001b[0m \u001b[31m83.7 MB/s\u001b[0m eta \u001b[36m0:00:00\u001b[0m\n",
            "\u001b[?25hRequirement already satisfied: spacy<3.8.0,>=3.7.0 in /usr/local/lib/python3.11/dist-packages (from ru-core-news-sm==3.7.0) (3.7.5)\n",
            "Collecting pymorphy3>=1.0.0 (from ru-core-news-sm==3.7.0)\n",
            "  Downloading pymorphy3-2.0.3-py3-none-any.whl.metadata (1.9 kB)\n",
            "Collecting dawg2-python>=0.8.0 (from pymorphy3>=1.0.0->ru-core-news-sm==3.7.0)\n",
            "  Downloading dawg2_python-0.9.0-py3-none-any.whl.metadata (7.5 kB)\n",
            "Collecting pymorphy3-dicts-ru (from pymorphy3>=1.0.0->ru-core-news-sm==3.7.0)\n",
            "  Downloading pymorphy3_dicts_ru-2.4.417150.4580142-py2.py3-none-any.whl.metadata (2.0 kB)\n",
            "Requirement already satisfied: spacy-legacy<3.1.0,>=3.0.11 in /usr/local/lib/python3.11/dist-packages (from spacy<3.8.0,>=3.7.0->ru-core-news-sm==3.7.0) (3.0.12)\n",
            "Requirement already satisfied: spacy-loggers<2.0.0,>=1.0.0 in /usr/local/lib/python3.11/dist-packages (from spacy<3.8.0,>=3.7.0->ru-core-news-sm==3.7.0) (1.0.5)\n",
            "Requirement already satisfied: murmurhash<1.1.0,>=0.28.0 in /usr/local/lib/python3.11/dist-packages (from spacy<3.8.0,>=3.7.0->ru-core-news-sm==3.7.0) (1.0.12)\n",
            "Requirement already satisfied: cymem<2.1.0,>=2.0.2 in /usr/local/lib/python3.11/dist-packages (from spacy<3.8.0,>=3.7.0->ru-core-news-sm==3.7.0) (2.0.11)\n",
            "Requirement already satisfied: preshed<3.1.0,>=3.0.2 in /usr/local/lib/python3.11/dist-packages (from spacy<3.8.0,>=3.7.0->ru-core-news-sm==3.7.0) (3.0.9)\n",
            "Requirement already satisfied: thinc<8.3.0,>=8.2.2 in /usr/local/lib/python3.11/dist-packages (from spacy<3.8.0,>=3.7.0->ru-core-news-sm==3.7.0) (8.2.5)\n",
            "Requirement already satisfied: wasabi<1.2.0,>=0.9.1 in /usr/local/lib/python3.11/dist-packages (from spacy<3.8.0,>=3.7.0->ru-core-news-sm==3.7.0) (1.1.3)\n",
            "Requirement already satisfied: srsly<3.0.0,>=2.4.3 in /usr/local/lib/python3.11/dist-packages (from spacy<3.8.0,>=3.7.0->ru-core-news-sm==3.7.0) (2.5.1)\n",
            "Requirement already satisfied: catalogue<2.1.0,>=2.0.6 in /usr/local/lib/python3.11/dist-packages (from spacy<3.8.0,>=3.7.0->ru-core-news-sm==3.7.0) (2.0.10)\n",
            "Requirement already satisfied: weasel<0.5.0,>=0.1.0 in /usr/local/lib/python3.11/dist-packages (from spacy<3.8.0,>=3.7.0->ru-core-news-sm==3.7.0) (0.4.1)\n",
            "Requirement already satisfied: typer<1.0.0,>=0.3.0 in /usr/local/lib/python3.11/dist-packages (from spacy<3.8.0,>=3.7.0->ru-core-news-sm==3.7.0) (0.15.1)\n",
            "Requirement already satisfied: tqdm<5.0.0,>=4.38.0 in /usr/local/lib/python3.11/dist-packages (from spacy<3.8.0,>=3.7.0->ru-core-news-sm==3.7.0) (4.67.1)\n",
            "Requirement already satisfied: requests<3.0.0,>=2.13.0 in /usr/local/lib/python3.11/dist-packages (from spacy<3.8.0,>=3.7.0->ru-core-news-sm==3.7.0) (2.32.3)\n",
            "Requirement already satisfied: pydantic!=1.8,!=1.8.1,<3.0.0,>=1.7.4 in /usr/local/lib/python3.11/dist-packages (from spacy<3.8.0,>=3.7.0->ru-core-news-sm==3.7.0) (2.10.6)\n",
            "Requirement already satisfied: jinja2 in /usr/local/lib/python3.11/dist-packages (from spacy<3.8.0,>=3.7.0->ru-core-news-sm==3.7.0) (3.1.5)\n",
            "Requirement already satisfied: setuptools in /usr/local/lib/python3.11/dist-packages (from spacy<3.8.0,>=3.7.0->ru-core-news-sm==3.7.0) (75.1.0)\n",
            "Requirement already satisfied: packaging>=20.0 in /usr/local/lib/python3.11/dist-packages (from spacy<3.8.0,>=3.7.0->ru-core-news-sm==3.7.0) (24.2)\n",
            "Requirement already satisfied: langcodes<4.0.0,>=3.2.0 in /usr/local/lib/python3.11/dist-packages (from spacy<3.8.0,>=3.7.0->ru-core-news-sm==3.7.0) (3.5.0)\n",
            "Requirement already satisfied: numpy>=1.19.0 in /usr/local/lib/python3.11/dist-packages (from spacy<3.8.0,>=3.7.0->ru-core-news-sm==3.7.0) (1.26.4)\n",
            "Requirement already satisfied: language-data>=1.2 in /usr/local/lib/python3.11/dist-packages (from langcodes<4.0.0,>=3.2.0->spacy<3.8.0,>=3.7.0->ru-core-news-sm==3.7.0) (1.3.0)\n",
            "Requirement already satisfied: annotated-types>=0.6.0 in /usr/local/lib/python3.11/dist-packages (from pydantic!=1.8,!=1.8.1,<3.0.0,>=1.7.4->spacy<3.8.0,>=3.7.0->ru-core-news-sm==3.7.0) (0.7.0)\n",
            "Requirement already satisfied: pydantic-core==2.27.2 in /usr/local/lib/python3.11/dist-packages (from pydantic!=1.8,!=1.8.1,<3.0.0,>=1.7.4->spacy<3.8.0,>=3.7.0->ru-core-news-sm==3.7.0) (2.27.2)\n",
            "Requirement already satisfied: typing-extensions>=4.12.2 in /usr/local/lib/python3.11/dist-packages (from pydantic!=1.8,!=1.8.1,<3.0.0,>=1.7.4->spacy<3.8.0,>=3.7.0->ru-core-news-sm==3.7.0) (4.12.2)\n",
            "Requirement already satisfied: charset-normalizer<4,>=2 in /usr/local/lib/python3.11/dist-packages (from requests<3.0.0,>=2.13.0->spacy<3.8.0,>=3.7.0->ru-core-news-sm==3.7.0) (3.4.1)\n",
            "Requirement already satisfied: idna<4,>=2.5 in /usr/local/lib/python3.11/dist-packages (from requests<3.0.0,>=2.13.0->spacy<3.8.0,>=3.7.0->ru-core-news-sm==3.7.0) (3.10)\n",
            "Requirement already satisfied: urllib3<3,>=1.21.1 in /usr/local/lib/python3.11/dist-packages (from requests<3.0.0,>=2.13.0->spacy<3.8.0,>=3.7.0->ru-core-news-sm==3.7.0) (2.3.0)\n",
            "Requirement already satisfied: certifi>=2017.4.17 in /usr/local/lib/python3.11/dist-packages (from requests<3.0.0,>=2.13.0->spacy<3.8.0,>=3.7.0->ru-core-news-sm==3.7.0) (2025.1.31)\n",
            "Requirement already satisfied: blis<0.8.0,>=0.7.8 in /usr/local/lib/python3.11/dist-packages (from thinc<8.3.0,>=8.2.2->spacy<3.8.0,>=3.7.0->ru-core-news-sm==3.7.0) (0.7.11)\n",
            "Requirement already satisfied: confection<1.0.0,>=0.0.1 in /usr/local/lib/python3.11/dist-packages (from thinc<8.3.0,>=8.2.2->spacy<3.8.0,>=3.7.0->ru-core-news-sm==3.7.0) (0.1.5)\n",
            "Requirement already satisfied: click>=8.0.0 in /usr/local/lib/python3.11/dist-packages (from typer<1.0.0,>=0.3.0->spacy<3.8.0,>=3.7.0->ru-core-news-sm==3.7.0) (8.1.8)\n",
            "Requirement already satisfied: shellingham>=1.3.0 in /usr/local/lib/python3.11/dist-packages (from typer<1.0.0,>=0.3.0->spacy<3.8.0,>=3.7.0->ru-core-news-sm==3.7.0) (1.5.4)\n",
            "Requirement already satisfied: rich>=10.11.0 in /usr/local/lib/python3.11/dist-packages (from typer<1.0.0,>=0.3.0->spacy<3.8.0,>=3.7.0->ru-core-news-sm==3.7.0) (13.9.4)\n",
            "Requirement already satisfied: cloudpathlib<1.0.0,>=0.7.0 in /usr/local/lib/python3.11/dist-packages (from weasel<0.5.0,>=0.1.0->spacy<3.8.0,>=3.7.0->ru-core-news-sm==3.7.0) (0.20.0)\n",
            "Requirement already satisfied: smart-open<8.0.0,>=5.2.1 in /usr/local/lib/python3.11/dist-packages (from weasel<0.5.0,>=0.1.0->spacy<3.8.0,>=3.7.0->ru-core-news-sm==3.7.0) (7.1.0)\n",
            "Requirement already satisfied: MarkupSafe>=2.0 in /usr/local/lib/python3.11/dist-packages (from jinja2->spacy<3.8.0,>=3.7.0->ru-core-news-sm==3.7.0) (3.0.2)\n",
            "Requirement already satisfied: marisa-trie>=1.1.0 in /usr/local/lib/python3.11/dist-packages (from language-data>=1.2->langcodes<4.0.0,>=3.2.0->spacy<3.8.0,>=3.7.0->ru-core-news-sm==3.7.0) (1.2.1)\n",
            "Requirement already satisfied: markdown-it-py>=2.2.0 in /usr/local/lib/python3.11/dist-packages (from rich>=10.11.0->typer<1.0.0,>=0.3.0->spacy<3.8.0,>=3.7.0->ru-core-news-sm==3.7.0) (3.0.0)\n",
            "Requirement already satisfied: pygments<3.0.0,>=2.13.0 in /usr/local/lib/python3.11/dist-packages (from rich>=10.11.0->typer<1.0.0,>=0.3.0->spacy<3.8.0,>=3.7.0->ru-core-news-sm==3.7.0) (2.18.0)\n",
            "Requirement already satisfied: wrapt in /usr/local/lib/python3.11/dist-packages (from smart-open<8.0.0,>=5.2.1->weasel<0.5.0,>=0.1.0->spacy<3.8.0,>=3.7.0->ru-core-news-sm==3.7.0) (1.17.2)\n",
            "Requirement already satisfied: mdurl~=0.1 in /usr/local/lib/python3.11/dist-packages (from markdown-it-py>=2.2.0->rich>=10.11.0->typer<1.0.0,>=0.3.0->spacy<3.8.0,>=3.7.0->ru-core-news-sm==3.7.0) (0.1.2)\n",
            "Downloading pymorphy3-2.0.3-py3-none-any.whl (53 kB)\n",
            "\u001b[2K   \u001b[90m━━━━━━━━━━━━━━━━━━━━━━━━━━━━━━━━━━━━━━━━\u001b[0m \u001b[32m53.8/53.8 kB\u001b[0m \u001b[31m1.9 MB/s\u001b[0m eta \u001b[36m0:00:00\u001b[0m\n",
            "\u001b[?25hDownloading dawg2_python-0.9.0-py3-none-any.whl (9.3 kB)\n",
            "Downloading pymorphy3_dicts_ru-2.4.417150.4580142-py2.py3-none-any.whl (8.4 MB)\n",
            "\u001b[2K   \u001b[90m━━━━━━━━━━━━━━━━━━━━━━━━━━━━━━━━━━━━━━━━\u001b[0m \u001b[32m8.4/8.4 MB\u001b[0m \u001b[31m61.5 MB/s\u001b[0m eta \u001b[36m0:00:00\u001b[0m\n",
            "\u001b[?25hInstalling collected packages: pymorphy3-dicts-ru, dawg2-python, pymorphy3, ru-core-news-sm\n",
            "Successfully installed dawg2-python-0.9.0 pymorphy3-2.0.3 pymorphy3-dicts-ru-2.4.417150.4580142 ru-core-news-sm-3.7.0\n",
            "\u001b[38;5;2m✔ Download and installation successful\u001b[0m\n",
            "You can now load the package via spacy.load('ru_core_news_sm')\n",
            "\u001b[38;5;3m⚠ Restart to reload dependencies\u001b[0m\n",
            "If you are in a Jupyter or Colab notebook, you may need to restart Python in\n",
            "order to load all the package's dependencies. You can do this by selecting the\n",
            "'Restart kernel' or 'Restart runtime' option.\n"
          ]
        }
      ]
    },
    {
      "cell_type": "code",
      "source": [
        "import spacy\n",
        "from nltk.stem.snowball import SnowballStemmer\n",
        "from sklearn.feature_extraction.text import CountVectorizer\n",
        "from collections import Counter"
      ],
      "metadata": {
        "id": "OZ02HpaElfvm"
      },
      "execution_count": null,
      "outputs": []
    },
    {
      "cell_type": "code",
      "source": [
        "nlp = spacy.load(\"ru_core_news_sm\")\n",
        "stemmer = SnowballStemmer(\"russian\")\n",
        "text = \"Основное преимущество метода Ньютона-Рафсона — это квадратичная сходимость при достаточно хорошем начальном приближении.Это означает, что при каждом шаге ошибка уменьшается пропорционально квадрату предыдущей ошибки, что делает метод очень быстрым по сравнению с другими численными методами, такими как метод бисекции или секущих.Метод легко применим к уравнениям, где производную функции можно вычислить аналитически или численно, что позволяет быстро приближаться к решению.Метод Ньютона-Рафсона используется не только для нахождения корней уравнений, но и для задач оптимизации, где необходимо находить экстремумы функций, решать системы нелинейных уравнений и выполнять другие сложные вычислительные задачи.\"\n",
        "#text = \"Бухгалтер Энди Дюфрейн обвинён в убийстве собственной жены и её любовника. Оказавшись в тюрьме под названием Шоушенк, он сталкивается с жестокостью и беззаконием, царящими по обе стороны решётки. Каждый, кто попадает в эти стены, становится их рабом до конца жизни. Но Энди, обладающий живым умом и доброй душой, находит подход как к заключённым, так и к охранникам, добиваясь их особого к себе расположения.\"\n",
        "doc = nlp(text)"
      ],
      "metadata": {
        "id": "VXOZzqP-lkun"
      },
      "execution_count": null,
      "outputs": []
    },
    {
      "cell_type": "code",
      "source": [
        "# Функция для подсчета уникальных слов\n",
        "def count_unique_words(words):\n",
        "    return len(set(words))"
      ],
      "metadata": {
        "id": "A6j2w_v2mGwU"
      },
      "execution_count": null,
      "outputs": []
    },
    {
      "cell_type": "code",
      "execution_count": null,
      "metadata": {
        "id": "KYDvDBSbYs8g"
      },
      "outputs": [],
      "source": [
        "tokens = [token.text for token in doc]\n",
        "lemmatized_tokens = [token.lemma_ for token in doc]\n",
        "stemmed_tokens = [stemmer.stem(token.text) for token in doc]\n",
        "filtered_tokens = [token.text for token in doc if not token.is_stop]\n",
        "lemmatized_filtered_tokens = [token.lemma_ for token in doc if not token.is_stop]\n",
        "stemmed_filtered_tokens = [stemmer.stem(token.text) for token in doc if not token.is_stop]"
      ]
    },
    {
      "cell_type": "code",
      "source": [
        "print(f\"Уникальных слов до обработки: {count_unique_words(tokens)}\")\n",
        "print(f\"Уникальных слов после лемматизации: {count_unique_words(lemmatized_tokens)}\")\n",
        "print(f\"Уникальных слов после стемминга: {count_unique_words(stemmed_tokens)}\")\n",
        "print(f\"Уникальных слов после удаления стоп-слов: {count_unique_words(filtered_tokens)}\")\n",
        "print(f\"Уникальных слов после лемматизации и удаления стоп-слов: {count_unique_words(lemmatized_filtered_tokens)}\")\n",
        "print(f\"Уникальных слов после стемминга и удаления стоп-слов: {count_unique_words(stemmed_filtered_tokens)}\")"
      ],
      "metadata": {
        "colab": {
          "base_uri": "https://localhost:8080/"
        },
        "id": "dw_NWEZYmlMn",
        "outputId": "1f703c03-3b2c-4cee-c12f-f795cb9a0b30"
      },
      "execution_count": null,
      "outputs": [
        {
          "output_type": "stream",
          "name": "stdout",
          "text": [
            "Уникальных слов до обработки: 82\n",
            "Уникальных слов после лемматизации: 75\n",
            "Уникальных слов после стемминга: 71\n",
            "Уникальных слов после удаления стоп-слов: 61\n",
            "Уникальных слов после лемматизации и удаления стоп-слов: 55\n",
            "Уникальных слов после стемминга и удаления стоп-слов: 52\n"
          ]
        }
      ]
    },
    {
      "cell_type": "code",
      "source": [
        "print(f\"Оригинальный текст: {text}\\n\")\n",
        "print(f\"После лемматизации: {' '.join(lemmatized_tokens)}\\n\")\n",
        "print(f\"После стемминга: {' '.join(stemmed_tokens)}\\n\")\n",
        "print(f\"После удаления стоп-слов: {' '.join(filtered_tokens)}\\n\")\n",
        "print(f\"После лемматизации и удаления стоп-слов: {' '.join(lemmatized_filtered_tokens)}\\n\")\n",
        "print(f\"После стемминга и удаления стоп-слов: {' '.join(stemmed_filtered_tokens)}\")"
      ],
      "metadata": {
        "colab": {
          "base_uri": "https://localhost:8080/"
        },
        "id": "OOtOfEhRpLGJ",
        "outputId": "28c88865-81ee-4eae-99eb-e40e855aad2d"
      },
      "execution_count": null,
      "outputs": [
        {
          "output_type": "stream",
          "name": "stdout",
          "text": [
            "Оригинальный текст: Основное преимущество метода Ньютона-Рафсона — это квадратичная сходимость при достаточно хорошем начальном приближении.Это означает, что при каждом шаге ошибка уменьшается пропорционально квадрату предыдущей ошибки, что делает метод очень быстрым по сравнению с другими численными методами, такими как метод бисекции или секущих.Метод легко применим к уравнениям, где производную функции можно вычислить аналитически или численно, что позволяет быстро приближаться к решению.Метод Ньютона-Рафсона используется не только для нахождения корней уравнений, но и для задач оптимизации, где необходимо находить экстремумы функций, решать системы нелинейных уравнений и выполнять другие сложные вычислительные задачи.\n",
            "\n",
            "После лемматизации: основный преимущество метод ньютон - рафсона — это квадратичный сходимость при достаточно хороший начальный приближение . это означать , что при каждый шаг ошибка уменьшаться пропорционально квадрату предыдущий ошибка , что делать метод очень быстрый по сравнение с другими численный метод , такой как метод бисекции или сечь . метод легко применим к уравнениям , где производный функция можно вычислить аналитически или численно , что позволять быстро приближаться к решение . метод ньютон - рафсона использоваться не только для нахождение корней уравнение , но и для задача оптимизация , где необходимый находить экстремум функция , решать система нелинейный уравнение и выполнять другие сложный вычислительный задача .\n",
            "\n",
            "После стемминга: основн преимуществ метод ньютон - рафсон — эт квадратичн сходим при достаточн хорош начальн приближен . эт означа , что при кажд шаг ошибк уменьша пропорциональн квадрат предыдущ ошибк , что дела метод очен быстр по сравнен с друг числен метод , так как метод бисекц ил секущ . метод легк примен к уравнен , где производн функц можн вычисл аналитическ ил числен , что позволя быстр приближа к решен . метод ньютон - рафсон использ не тольк для нахожден корн уравнен , но и для задач оптимизац , где необходим наход экстремум функц , реша систем нелинейн уравнен и выполня друг сложн вычислительн задач .\n",
            "\n",
            "После удаления стоп-слов: Основное преимущество метода Ньютона - Рафсона — квадратичная сходимость достаточно хорошем начальном приближении . означает , каждом шаге ошибка уменьшается пропорционально квадрату предыдущей ошибки , делает метод быстрым сравнению численными методами , метод бисекции секущих . Метод легко применим уравнениям , производную функции вычислить аналитически численно , позволяет быстро приближаться решению . Метод Ньютона - Рафсона используется нахождения корней уравнений , задач оптимизации , находить экстремумы функций , решать системы нелинейных уравнений выполнять сложные вычислительные задачи .\n",
            "\n",
            "После лемматизации и удаления стоп-слов: основный преимущество метод ньютон - рафсона — квадратичный сходимость достаточно хороший начальный приближение . означать , каждый шаг ошибка уменьшаться пропорционально квадрату предыдущий ошибка , делать метод быстрый сравнение численный метод , метод бисекции сечь . метод легко применим уравнениям , производный функция вычислить аналитически численно , позволять быстро приближаться решение . метод ньютон - рафсона использоваться нахождение корней уравнение , задача оптимизация , находить экстремум функция , решать система нелинейный уравнение выполнять сложный вычислительный задача .\n",
            "\n",
            "После стемминга и удаления стоп-слов: основн преимуществ метод ньютон - рафсон — квадратичн сходим достаточн хорош начальн приближен . означа , кажд шаг ошибк уменьша пропорциональн квадрат предыдущ ошибк , дела метод быстр сравнен числен метод , метод бисекц секущ . метод легк примен уравнен , производн функц вычисл аналитическ числен , позволя быстр приближа решен . метод ньютон - рафсон использ нахожден корн уравнен , задач оптимизац , наход экстремум функц , реша систем нелинейн уравнен выполня сложн вычислительн задач .\n"
          ]
        }
      ]
    },
    {
      "cell_type": "code",
      "source": [
        "# Векторизация текста\n",
        "vectorizer = CountVectorizer()\n",
        "X = vectorizer.fit_transform([\" \".join(tokens)])\n",
        "vocab = vectorizer.get_feature_names_out()\n",
        "\n",
        "# Обратное преобразование (замена чисел на слова)\n",
        "def vector_to_text(vector, vocab):\n",
        "    return \" \".join([vocab[i] for i in vector.nonzero()[1]])\n",
        "\n",
        "vectorized_text = vector_to_text(X, vocab)\n",
        "print(f\"Векторизованный текст: {vectorized_text}\")"
      ],
      "metadata": {
        "colab": {
          "base_uri": "https://localhost:8080/"
        },
        "id": "yVQF3WuKoJYS",
        "outputId": "a11a4d22-5764-44bf-c316-a5876282614f"
      },
      "execution_count": null,
      "outputs": [
        {
          "output_type": "stream",
          "name": "stdout",
          "text": [
            "Векторизованный текст: основное преимущество метода ньютона рафсона это квадратичная сходимость при достаточно хорошем начальном приближении означает что каждом шаге ошибка уменьшается пропорционально квадрату предыдущей ошибки делает метод очень быстрым по сравнению другими численными методами такими как бисекции или секущих легко применим уравнениям где производную функции можно вычислить аналитически численно позволяет быстро приближаться решению используется не только для нахождения корней уравнений но задач оптимизации необходимо находить экстремумы функций решать системы нелинейных выполнять другие сложные вычислительные задачи\n"
          ]
        }
      ]
    }
  ]
}