{
  "nbformat": 4,
  "nbformat_minor": 0,
  "metadata": {
    "colab": {
      "provenance": []
    },
    "kernelspec": {
      "name": "python3",
      "display_name": "Python 3"
    },
    "language_info": {
      "name": "python"
    }
  },
  "cells": [
    {
      "cell_type": "code",
      "execution_count": null,
      "metadata": {
        "id": "Kh1P041u7XRJ"
      },
      "outputs": [],
      "source": [
        "import numpy as np\n",
        "import tensorflow as tf\n",
        "from tensorflow.keras.models import Sequential\n",
        "from tensorflow.keras.layers import Embedding, LSTM, Dense\n",
        "from tensorflow.keras.preprocessing.sequence import pad_sequences\n",
        "from tensorflow.keras.utils import to_categorical\n",
        "import kagglehub\n",
        "import pandas as pd\n",
        "import re"
      ]
    },
    {
      "cell_type": "code",
      "source": [
        "path = kagglehub.dataset_download(\"yutkin/corpus-of-russian-news-articles-from-lenta\")\n",
        "file_path = f\"{path}/lenta-ru-news.csv\"\n",
        "data = pd.read_csv(file_path)\n",
        "print(data.head())"
      ],
      "metadata": {
        "colab": {
          "base_uri": "https://localhost:8080/"
        },
        "outputId": "e999e9bf-a4d2-4937-bb20-393b70ce7021",
        "id": "7rdRlVw4EipD"
      },
      "execution_count": null,
      "outputs": [
        {
          "output_type": "stream",
          "name": "stdout",
          "text": [
            "                                           url  \\\n",
            "0   https://lenta.ru/news/1914/09/16/hungarnn/   \n",
            "1  https://lenta.ru/news/1914/09/16/lermontov/   \n",
            "2  https://lenta.ru/news/1914/09/17/nesteroff/   \n",
            "3   https://lenta.ru/news/1914/09/17/bulldogn/   \n",
            "4       https://lenta.ru/news/1914/09/18/zver/   \n",
            "\n",
            "                                               title  \\\n",
            "0  1914. Русские войска вступили в пределы Венгрии     \n",
            "1  1914. Празднование столетия М.Ю. Лермонтова от...   \n",
            "2                           1914. Das ist Nesteroff!   \n",
            "3                    1914. Бульдог-гонец под Льежем    \n",
            "4           1914. Под Люблином пойман швабский зверь   \n",
            "\n",
            "                                                text       topic  \\\n",
            "0  Бои у Сопоцкина и Друскеник закончились отступ...  Библиотека   \n",
            "1  Министерство народного просвещения, в виду про...  Библиотека   \n",
            "2  Штабс-капитан П. Н. Нестеров на днях, увидев в...  Библиотека   \n",
            "3  Фотограф-корреспондент Daily Mirror рассказыва...  Библиотека   \n",
            "4  Лица, приехавшие в Варшаву из Люблина, передаю...  Библиотека   \n",
            "\n",
            "             tags        date  \n",
            "0  Первая мировая  1914/09/16  \n",
            "1  Первая мировая  1914/09/16  \n",
            "2  Первая мировая  1914/09/17  \n",
            "3  Первая мировая  1914/09/17  \n",
            "4  Первая мировая  1914/09/18  \n"
          ]
        },
        {
          "output_type": "stream",
          "name": "stderr",
          "text": [
            "<ipython-input-2-3bd991d4562e>:3: DtypeWarning: Columns (3) have mixed types. Specify dtype option on import or set low_memory=False.\n",
            "  data = pd.read_csv(file_path)\n"
          ]
        }
      ]
    },
    {
      "cell_type": "code",
      "source": [
        "# Заменяем NaN на пустые строки\n",
        "data['text'] = data['text'].fillna(\"\")\n",
        "\n",
        "# Создаем словарь символов\n",
        "all_text = \" \".join(data['text'])\n",
        "chars = sorted(list(set(all_text)))\n",
        "num_chars = len(chars)\n",
        "\n",
        "# Добавляем токен для неизвестных символов (опционально)\n",
        "UNK_TOKEN = '<UNK>'\n",
        "chars.append(UNK_TOKEN)\n",
        "num_chars = len(chars)\n",
        "\n",
        "char_to_index = {char: i for i, char in enumerate(chars)}\n",
        "index_to_char = {i: char for i, char in enumerate(chars)}\n",
        "\n",
        "# Генерация данных\n",
        "max_sequence_length = 20\n",
        "X = []\n",
        "y = []\n",
        "\n",
        "for text in data['text'][:50]:  # Итерируемся только по 'overview'\n",
        "    for i in range(len(text)):\n",
        "        # Берем последовательность длиной до i+1\n",
        "        end_idx = i + 1\n",
        "        if end_idx > len(text):\n",
        "            continue\n",
        "        input_seq = text[:end_idx]\n",
        "        target_char = text[end_idx] if end_idx < len(text) else UNK_TOKEN  # Обработка конца текста\n",
        "\n",
        "        # Преобразуем символы в индексы с учетом UNK\n",
        "        x_seq = [char_to_index.get(c, char_to_index[UNK_TOKEN]) for c in input_seq]\n",
        "        y_char = char_to_index.get(target_char, char_to_index[UNK_TOKEN])\n",
        "\n",
        "        X.append(x_seq)\n",
        "        y.append(y_char)\n",
        "\n",
        "# Дополнение последовательностей\n",
        "X = pad_sequences(X, maxlen=max_sequence_length, padding='pre')\n",
        "\n",
        "# One-hot encoding для y\n",
        "y = to_categorical(y, num_classes=num_chars)"
      ],
      "metadata": {
        "id": "6nOgJ-_Eq0C7"
      },
      "execution_count": null,
      "outputs": []
    },
    {
      "cell_type": "code",
      "source": [
        "# Создание словаря символов\n",
        "\n",
        "data['text'] = data['text'].fillna(\"\")\n",
        "data['gen'] = data['text'][0]\n",
        "\n",
        "# Создание словаря символов\n",
        "chars = \" \".join(data['gen']).split()\n",
        "char_to_index = {char: i for i, char in enumerate(chars)}\n",
        "index_to_char = {i: char for i, char in enumerate(chars)}\n",
        "\n",
        "# Преобразование текста в последовательности символов\n",
        "max_sequence_length = 20\n",
        "X = []\n",
        "y = []\n",
        "\n",
        "for text in data['gen']:\n",
        "    for i in range(len(text) - 1):\n",
        "        input_seq = text[:i + 1]\n",
        "        target_char = text[i + 1]\n",
        "        X.append([char_to_index[char] for char in input_seq])\n",
        "        y.append(char_to_index[target_char])\n",
        "\n",
        "# Дополнение последовательностей до одинаковой длины\n",
        "X = pad_sequences(X, maxlen=max_sequence_length, padding='pre')\n",
        "\n",
        "# Преобразование целевых значений в one-hot encoding\n",
        "y = to_categorical(y, num_classes=len(chars))"
      ],
      "metadata": {
        "id": "-BwTDS9bEvET"
      },
      "execution_count": null,
      "outputs": []
    },
    {
      "cell_type": "code",
      "source": [
        "# Параметры модели\n",
        "embedding_dim = 50\n",
        "lstm_units = 128\n",
        "\n",
        "# Создание модели\n",
        "model = Sequential([\n",
        "    Embedding(input_dim=len(chars), output_dim=embedding_dim, input_length=max_sequence_length),\n",
        "    LSTM(lstm_units),\n",
        "    Dense(len(chars), activation='softmax')\n",
        "])\n",
        "\n",
        "# Компиляция модели\n",
        "model.compile(optimizer='adam', loss='categorical_crossentropy', metrics=['accuracy'])\n",
        "\n",
        "# Обучение модели\n",
        "model.fit(X, y, epochs=5, batch_size=512)"
      ],
      "metadata": {
        "colab": {
          "base_uri": "https://localhost:8080/"
        },
        "id": "jQOw0XjL_LPO",
        "outputId": "7f126f52-1d61-4c36-834f-2d5e36e51e1c"
      },
      "execution_count": null,
      "outputs": [
        {
          "output_type": "stream",
          "name": "stdout",
          "text": [
            "Epoch 1/5\n",
            "\u001b[1m148/148\u001b[0m \u001b[32m━━━━━━━━━━━━━━━━━━━━\u001b[0m\u001b[37m\u001b[0m \u001b[1m36s\u001b[0m 201ms/step - accuracy: 0.1290 - loss: 3.7562\n",
            "Epoch 2/5\n",
            "\u001b[1m148/148\u001b[0m \u001b[32m━━━━━━━━━━━━━━━━━━━━\u001b[0m\u001b[37m\u001b[0m \u001b[1m29s\u001b[0m 197ms/step - accuracy: 0.2023 - loss: 2.9921\n",
            "Epoch 3/5\n",
            "\u001b[1m148/148\u001b[0m \u001b[32m━━━━━━━━━━━━━━━━━━━━\u001b[0m\u001b[37m\u001b[0m \u001b[1m28s\u001b[0m 191ms/step - accuracy: 0.2242 - loss: 2.8202\n",
            "Epoch 4/5\n",
            "\u001b[1m148/148\u001b[0m \u001b[32m━━━━━━━━━━━━━━━━━━━━\u001b[0m\u001b[37m\u001b[0m \u001b[1m40s\u001b[0m 188ms/step - accuracy: 0.2380 - loss: 2.7320\n",
            "Epoch 5/5\n",
            "\u001b[1m148/148\u001b[0m \u001b[32m━━━━━━━━━━━━━━━━━━━━\u001b[0m\u001b[37m\u001b[0m \u001b[1m42s\u001b[0m 194ms/step - accuracy: 0.2434 - loss: 2.6787\n"
          ]
        },
        {
          "output_type": "execute_result",
          "data": {
            "text/plain": [
              "<keras.src.callbacks.history.History at 0x7df8a0af7bd0>"
            ]
          },
          "metadata": {},
          "execution_count": 7
        }
      ]
    },
    {
      "cell_type": "code",
      "source": [
        "# Функция для генерации текста\n",
        "def generate_text(seed_text, num_chars_to_generate):\n",
        "    for _ in range(num_chars_to_generate):\n",
        "        # Преобразование seed_text в последовательность индексов\n",
        "        input_seq = [char_to_index[char] for char in seed_text]\n",
        "        input_seq = pad_sequences([input_seq], maxlen=max_sequence_length, padding='pre')\n",
        "\n",
        "        # Предсказание следующего символа\n",
        "        predicted_probs = model.predict(input_seq, verbose=0)[0]\n",
        "        predicted_index = np.argmax(predicted_probs)\n",
        "        predicted_char = index_to_char[predicted_index]\n",
        "\n",
        "        # Добавление предсказанного символа к seed_text\n",
        "        seed_text += predicted_char\n",
        "\n",
        "    return seed_text\n",
        "\n",
        "# Генерация текста\n",
        "seed_texts = [\"Бои\", \"лица\", \"дни\"]\n",
        "for seed in seed_texts:\n",
        "    generated_text = generate_text(seed, num_chars_to_generate=50)\n",
        "    print(f\"Начальная фраза: '{seed}'\")\n",
        "    print(f\"Сгенерированный текст: {generated_text}\")\n",
        "    print(\"-\" * 50)"
      ],
      "metadata": {
        "colab": {
          "base_uri": "https://localhost:8080/"
        },
        "id": "Dpc9uONg_gEJ",
        "outputId": "da608d9d-dc51-4ce0-d3ca-b90950a648a5"
      },
      "execution_count": null,
      "outputs": [
        {
          "output_type": "stream",
          "name": "stdout",
          "text": [
            "Начальная фраза: 'Бои'\n",
            "Сгенерированный текст: Бои пренито пренито пренито пренито пренито пренито п\n",
            "--------------------------------------------------\n",
            "Начальная фраза: 'лица'\n",
            "Сгенерированный текст: лица пренито пренито пренито пренито пренито пренито п\n",
            "--------------------------------------------------\n",
            "Начальная фраза: 'дни'\n",
            "Сгенерированный текст: дни пренито пренито пренито пренито пренито пренито п\n",
            "--------------------------------------------------\n"
          ]
        }
      ]
    }
  ]
}