{
  "nbformat": 4,
  "nbformat_minor": 0,
  "metadata": {
    "colab": {
      "provenance": []
    },
    "kernelspec": {
      "name": "python3",
      "display_name": "Python 3"
    },
    "language_info": {
      "name": "python"
    }
  },
  "cells": [
    {
      "cell_type": "markdown",
      "source": [
        "Подготовка данных"
      ],
      "metadata": {
        "id": "Uaie_0iQcO-e"
      }
    },
    {
      "cell_type": "code",
      "execution_count": 4,
      "metadata": {
        "id": "Eg8sAwq0bUlY"
      },
      "outputs": [],
      "source": [
        "# Время выполнения работ на каждом станке\n",
        "times = [\n",
        "    [5, 7, None],  # Работа 1\n",
        "    [4, None, 9],  # Работа 2\n",
        "    [10, None, 12],  # Работа 3\n",
        "    [None, 14, None],  # Работа 4\n",
        "    [8, None, None],  # Работа 5\n",
        "    [None, None, 9],  # Работа 6\n",
        "    [7, 8, 12],  # Работа 7\n",
        "    [None, 15, None],  # Работа 8\n",
        "    [7, 5, None],  # Работа 9\n",
        "    [11, 19, None],  # Работа 10\n",
        "]"
      ]
    },
    {
      "cell_type": "markdown",
      "source": [
        "Генетическая модель"
      ],
      "metadata": {
        "id": "ESk03vM7dqBD"
      }
    },
    {
      "cell_type": "code",
      "source": [
        "import random\n",
        "\n",
        "# Создание случайного индивидуума (распределения)\n",
        "def create_individual():\n",
        "    individual = []\n",
        "    for job in range(len(times)):\n",
        "        available_machines = [i for i, t in enumerate(times[job]) if t is not None]\n",
        "        individual.append(random.choice(available_machines))\n",
        "    return individual\n",
        "\n",
        "# Для оценки загрузки станков\n",
        "def eval_load(individual):\n",
        "    loads = [0, 0, 0]  # Загрузка станков\n",
        "    for job, machine in enumerate(individual):\n",
        "        loads[machine] += times[job][machine]\n",
        "    return max(loads) - min(loads)  # Разница между минимальной и максимальной загрузкой\n",
        "\n",
        "# Скрещивание двух индивидов\n",
        "def crossover(parent1, parent2):\n",
        "    point = random.randint(1, len(parent1) - 2)\n",
        "    return parent1[:point] + parent2[point:], parent2[:point] + parent1[point:]\n",
        "\n",
        "# Мутация индивидуума\n",
        "def mutate(individual):\n",
        "    job = random.randint(0, len(individual) - 1)\n",
        "    available_machines = [i for i, t in enumerate(times[job]) if t is not None]\n",
        "    individual[job] = random.choice(available_machines)\n",
        "\n",
        "# Основной процесс эволюции\n",
        "def genetic_algorithm(pop_size, generations):\n",
        "    population = [create_individual() for _ in range(pop_size)]\n",
        "    for generation in range(generations):\n",
        "        population.sort(key=eval_load)\n",
        "        new_population = population[:2]  # Сохраняем двух лучших\n",
        "        while len(new_population) < pop_size:\n",
        "            parent1, parent2 = random.sample(population[:10], 2)  # Турнирный отбор\n",
        "            offspring1, offspring2 = crossover(parent1, parent2)\n",
        "            if random.random() < 0.1:\n",
        "                mutate(offspring1)\n",
        "            if random.random() < 0.1:\n",
        "                mutate(offspring2)\n",
        "            new_population.extend([offspring1, offspring2])\n",
        "        population = new_population\n",
        "        best = min(population, key=eval_load)\n",
        "    return best"
      ],
      "metadata": {
        "id": "oEn9LU6Yds50"
      },
      "execution_count": 15,
      "outputs": []
    },
    {
      "cell_type": "markdown",
      "source": [
        "Программные результаты расчета"
      ],
      "metadata": {
        "id": "PQDVA5ePeH3M"
      }
    },
    {
      "cell_type": "code",
      "source": [
        "best_individual = genetic_algorithm(pop_size=100, generations=100)\n",
        "print(f\"Разница в загрузке: {eval_load(best_individual)}\")\n",
        "print(f\"Лучшее распределение работ: {best_individual}\")"
      ],
      "metadata": {
        "colab": {
          "base_uri": "https://localhost:8080/"
        },
        "id": "-16SxTlyrnI5",
        "outputId": "50f71e8f-61d9-45f1-8859-ce0a16d8d1f5"
      },
      "execution_count": 19,
      "outputs": [
        {
          "output_type": "stream",
          "name": "stdout",
          "text": [
            "Разница в загрузке: 4\n",
            "Лучшее распределение работ: [0, 2, 0, 1, 0, 2, 2, 1, 1, 0]\n"
          ]
        }
      ]
    },
    {
      "cell_type": "markdown",
      "source": [
        "# Ручной расчет\n",
        "1. Распределение работ по станкам (выбор минимального времени)\n",
        "\n",
        "Станок 1: Работы 1, 2, 3, **5**, 7, 10 (время выполнения: 5 + 4 + 10 + 8 + 7 + 11 = 45)\n",
        "\n",
        "Станок 2: Работы **4**,  **8**, 9 (время выполнения: 14 + 15 + 5 = 34)\n",
        "\n",
        "Станок 3: Работы **6** (время выполнения: 9)\n",
        "\n",
        "2. Разница между минимальной и максимальной загрузкой станков:\n",
        "\n",
        "45 - 9 = 36 единиц времени.\n",
        "\n",
        "3. Нагрузим 3 станок (варианты работ, которые можно перенести с первого станка 2, 3, 7)\n",
        "\n",
        "Станок 1: Работы 1, **5**, 7, 10 (время выполнения: 5 + 8 + 7 + 11 = 31)\n",
        "\n",
        "Станок 2: Работы **4**,  **8**, 9 (время выполнения: 14 + 15 + 5 = 34)\n",
        "\n",
        "Станок 3: Работы 2, 3, **6** (время выполнения: 9 + 12 + 9 = 30)\n",
        "\n",
        "4. Разница между минимальной и максимальной загрузкой станков:\n",
        "\n",
        "34 - 30 = 4 единиц времени.\n",
        "\n",
        "5. Второй вариант\n",
        "\n",
        "Станок 1: Работы 1, 3, **5**, 10 (время выполнения: 5 + 10 + 8 + 11 = 34)\n",
        "\n",
        "Станок 2: Работы **4**,  **8**, 9 (время выполнения: 14 + 15 + 5 = 34)\n",
        "\n",
        "Станок 3: Работы 2, **6**, 7 (время выполнения: 9 + 9 + 12 = 30)\n",
        "\n",
        "6. Разница между минимальной и максимальной загрузкой станков:\n",
        "\n",
        "34 - 30 = 4 единиц времени.\n",
        "\n",
        "\n"
      ],
      "metadata": {
        "id": "bvSeQhq8ieBi"
      }
    }
  ]
}