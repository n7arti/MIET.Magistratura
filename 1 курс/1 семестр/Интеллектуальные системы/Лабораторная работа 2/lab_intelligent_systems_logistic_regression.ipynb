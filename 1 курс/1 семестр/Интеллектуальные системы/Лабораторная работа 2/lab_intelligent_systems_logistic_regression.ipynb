{
  "cells": [
    {
      "cell_type": "markdown",
      "id": "70e18ec1",
      "metadata": {
        "id": "70e18ec1"
      },
      "source": [
        "# Лабораторная работа 2\n",
        "*********\n",
        "## Предсказание вероятности возникновения события по значениям множества признаков (логистическая регрессия)"
      ]
    },
    {
      "cell_type": "markdown",
      "source": [
        "На этом занятии компьютерного практикума вы изучите логистическую регрессию и примените метод логистической регрессии к обработке двух различных наборов данных, а именно, данных, характеризующих систему сигнализации об исправности двигателя автомобиля в процессе эксплуатации, и данных, описывающих автомат по отбраковке микрочипов на производстве. Прежде чем приступить, собственно, к программированию, настоятельно рекомендуется ознакомиться с материалом лекций, а также с дополнительными материалами, имеющими отношение к задаче логистической регрессии и классификации."
      ],
      "metadata": {
        "id": "x947144Zy91j"
      },
      "id": "x947144Zy91j"
    },
    {
      "cell_type": "code",
      "execution_count": 1,
      "id": "33d024f3",
      "metadata": {
        "id": "33d024f3"
      },
      "outputs": [],
      "source": [
        "# импортируем все необходимые билиотеки\n",
        "import numpy as np\n",
        "import pandas as pd\n",
        "import seaborn as sns\n",
        "import math\n",
        "from matplotlib import pyplot as plt\n",
        "import warnings\n",
        "warnings.filterwarnings('ignore')\n",
        "%matplotlib inline\n",
        "\n",
        "import seaborn as sns\n",
        "sns.set(style='ticks')"
      ]
    },
    {
      "cell_type": "markdown",
      "id": "3f74a102",
      "metadata": {
        "id": "3f74a102"
      },
      "source": [
        "## Инициализация"
      ]
    },
    {
      "cell_type": "markdown",
      "source": [
        "Перед началом работы у вас есть возможность выбрать формат файла, с которым вы будетет работать. Для работы с файлами формата .csv предлагается использовать библиотеку pandas. Но также вы можете загрузить данные из файла .txt с помощью функции np.loadtxt('.txt', delimiter=',' ), используя билиотеку numpy"
      ],
      "metadata": {
        "id": "2r_p_n5Y0wKT"
      },
      "id": "2r_p_n5Y0wKT"
    },
    {
      "cell_type": "code",
      "execution_count": null,
      "id": "2206c977",
      "metadata": {
        "id": "2206c977"
      },
      "outputs": [],
      "source": [
        "df = pd.read_csv('engine.csv')"
      ]
    },
    {
      "cell_type": "code",
      "execution_count": null,
      "id": "cbff5ca8",
      "metadata": {
        "id": "cbff5ca8"
      },
      "outputs": [],
      "source": [
        "df.head()"
      ]
    },
    {
      "cell_type": "code",
      "execution_count": null,
      "id": "30a7c529",
      "metadata": {
        "id": "30a7c529"
      },
      "outputs": [],
      "source": [
        "df.describe()"
      ]
    },
    {
      "cell_type": "code",
      "execution_count": null,
      "id": "67bc4bad",
      "metadata": {
        "id": "67bc4bad"
      },
      "outputs": [],
      "source": [
        "# Формируем вектор признаков\n",
        "m = len(df)\n",
        "x = np.array(df['noise'])\n",
        "temp = np.array(df['rotation'])\n",
        "y = np.array(df['class'])\n",
        "\n",
        "x = x.reshape((m, 1))\n",
        "temp = temp.reshape((m, 1))\n",
        "y = y.reshape((m, 1))\n",
        "X = np.hstack((temp,x))\n",
        "print(X[0:5])"
      ]
    },
    {
      "cell_type": "code",
      "execution_count": null,
      "id": "971f80e7",
      "metadata": {
        "id": "971f80e7"
      },
      "outputs": [],
      "source": [
        "# Добавляем к вектору признаков столбец единиц для theta_0\n",
        "t = np.ones((m,1))\n",
        "X = np.hstack((t,X))\n",
        "print(X[0:5])"
      ]
    },
    {
      "cell_type": "markdown",
      "id": "1edcd6d7",
      "metadata": {
        "id": "1edcd6d7"
      },
      "source": [
        "## Задание 1. Отображение"
      ]
    },
    {
      "cell_type": "markdown",
      "source": [
        "До начала выполнения заданий желательно представить данные в графическом виде. В первой части ноутбука, как и в Лабораторной работе 1, посвященной линейной регрессии, для этого будет вызвана функция построения двухмерных графиков plotData. Вам необходимо завершить программу plotData так, чтобы её результатом служил график, подобный приведенному на Рис. 1, где оси соответствуют двум оценкам, а положительные или отрицательные результаты – маркерам разных цветов."
      ],
      "metadata": {
        "id": "ZJ4TiuFA4dmp"
      },
      "id": "ZJ4TiuFA4dmp"
    },
    {
      "cell_type": "code",
      "execution_count": null,
      "id": "8c866ac0",
      "metadata": {
        "id": "8c866ac0"
      },
      "outputs": [],
      "source": [
        "def plotData(X, y, size, marker, color, label):\n",
        "  '''\n",
        "  Инструкция: Отобразите на графике исходные обучающие данные, используя\n",
        "              команды \"figure\", \"scatter\". Создайте подписи осей графиков,\n",
        "              применяя команды \"xlabel\" и \"ylabel\".\n",
        "  '''\n",
        "  # Ваш код здесь"
      ]
    },
    {
      "cell_type": "code",
      "execution_count": null,
      "id": "aab5e660",
      "metadata": {
        "scrolled": false,
        "id": "aab5e660"
      },
      "outputs": [],
      "source": [
        "#строим набор наших данных\n",
        "plt.figure(figsize=(13,10))\n",
        "plotData (df['noise'][df['class'] == 0], df['rotation'][df['class'] == 0], 250, '>', 'green', 'Исправен' )\n",
        "plotData (df['noise'][df['class'] == 1], df['rotation'][df['class'] == 1], 250, '<', 'red', 'Поломка')\n",
        "plt.show()"
      ]
    },
    {
      "cell_type": "markdown",
      "id": "ac050ef5",
      "metadata": {
        "id": "ac050ef5"
      },
      "source": [
        "## Задание 2: Вычисление функции стоимости и градиентов\n",
        "#### В этой части задания, определяются функция стоимости и градиенты для задачи логистической регрессии."
      ]
    },
    {
      "cell_type": "code",
      "execution_count": null,
      "id": "fca4a237",
      "metadata": {
        "id": "fca4a237"
      },
      "outputs": [],
      "source": [
        "[m, n] = X.shape"
      ]
    },
    {
      "cell_type": "code",
      "execution_count": null,
      "id": "b38ff4c6",
      "metadata": {
        "id": "b38ff4c6"
      },
      "outputs": [],
      "source": [
        "initial_theta = np.zeros((n , 1))"
      ]
    },
    {
      "cell_type": "markdown",
      "source": [
        "До того, как приступать к написанию функции стоимости, определим гипотезу логистической\n",
        "регрессии:\n",
        "$$\n",
        "\\begin{aligned}\n",
        "h_θ(x) &= g(θ^Tx)\n",
        "\\end{aligned}\n",
        "$$\n",
        "где сигмоидная функция g, определяется как:\n",
        "$$\n",
        "\\begin{aligned}\n",
        "g(z) &= \\frac{1}{1+e^-z}\\\n",
        "\\end{aligned}\n",
        "$$\n"
      ],
      "metadata": {
        "id": "n_wo1USw5zs2"
      },
      "id": "n_wo1USw5zs2"
    },
    {
      "cell_type": "markdown",
      "source": [
        "Сначала следует описать эту функцию в функции sigmoid. Для проверки попробуйте вычислить несколько значений сигмоидной функции, написав sigmoid(x). Для больших положительных значений x, значение сигмоидной функции должно быть близко к 1, а для высоких отрицательных – к 0. Значение функции sigmoid в нуле должно быть равно 0,5. Программа должна работать также с векторами и матрицами. Для работы с матрицами сигмоидная функция должна обрабатывать каждый элемент матрицы по отдельности."
      ],
      "metadata": {
        "id": "CrkBsaz-6pb8"
      },
      "id": "CrkBsaz-6pb8"
    },
    {
      "cell_type": "code",
      "execution_count": null,
      "id": "af04fd4c",
      "metadata": {
        "id": "af04fd4c"
      },
      "outputs": [],
      "source": [
        "def sigmoid(z):\n",
        "  \"\"\"\n",
        "  Указание:    z может быть матрицей вектором или скаляром.\n",
        "  \"\"\"\n",
        "  # Ваш код здесь\n",
        "  return g"
      ]
    },
    {
      "cell_type": "code",
      "execution_count": null,
      "id": "7bb25049",
      "metadata": {
        "id": "7bb25049"
      },
      "outputs": [],
      "source": [
        "def costFunction(theta, X, y, return_grad=False):\n",
        "  \"\"\"\n",
        "  Указание: Градиент должен иметь ту же размерность, что и theta\n",
        "  \"\"\"\n",
        "  # Ваш код здесь\n",
        "  m = len(y)\n",
        "  #В процессе выполнения задания, следующие переменные должны быть вычислены\n",
        "  # правильно\n",
        "  J = 0\n",
        "\n",
        "  return J"
      ]
    },
    {
      "cell_type": "code",
      "execution_count": null,
      "id": "de0e93cb",
      "metadata": {
        "scrolled": true,
        "id": "de0e93cb"
      },
      "outputs": [],
      "source": [
        "cost, grad = costFunction(initial_theta, X, y, True)"
      ]
    },
    {
      "cell_type": "code",
      "execution_count": null,
      "id": "bd64ec80",
      "metadata": {
        "id": "bd64ec80"
      },
      "outputs": [],
      "source": [
        "print('Значение функции стоимости при начальных (нулевых) значениях вектора thetа:', cost, '\\n');\n",
        "print('Значение градиента при начальных (нулевых) значениях вектора thetа:',grad, ' \\n');"
      ]
    },
    {
      "cell_type": "markdown",
      "id": "ab7ed79c",
      "metadata": {
        "id": "ab7ed79c"
      },
      "source": [
        "## Задание 3: Оптимизация"
      ]
    },
    {
      "cell_type": "markdown",
      "source": [
        "  В этом задании предполагается вместо уже известного метода градиентного спуска использовать для вычисления оптимальных значений параметров theta библиотеку scipy\n"
      ],
      "metadata": {
        "id": "TeNbNdev7-EN"
      },
      "id": "TeNbNdev7-EN"
    },
    {
      "cell_type": "code",
      "execution_count": null,
      "id": "e7959cd9",
      "metadata": {
        "id": "e7959cd9"
      },
      "outputs": [],
      "source": [
        "from scipy.optimize import fmin\n",
        "myargs=(X, y)\n",
        "theta = fmin(costFunction, x0=initial_theta, args=myargs)"
      ]
    },
    {
      "cell_type": "code",
      "execution_count": null,
      "id": "0f77fda2",
      "metadata": {
        "id": "0f77fda2"
      },
      "outputs": [],
      "source": [
        "costFunction(theta, X, y)"
      ]
    },
    {
      "cell_type": "code",
      "execution_count": null,
      "id": "328aa548",
      "metadata": {
        "id": "328aa548"
      },
      "outputs": [],
      "source": [
        "print('Значение theta:',theta)"
      ]
    },
    {
      "cell_type": "markdown",
      "id": "d14d185a",
      "metadata": {
        "id": "d14d185a"
      },
      "source": [
        "### Отображение границы классов\n"
      ]
    },
    {
      "cell_type": "code",
      "source": [
        "def plotDecisionBoundary(X, theta, df):\n",
        "  \"\"\"\n",
        "  Указание: Ваша задача разобраться, как строиться граница классов\n",
        "  \"\"\"\n",
        "  x_values = [np.min(X[:, 1]), np.max(X[:, 2])]\n",
        "  y_values = - (theta[0] + np.dot(theta[1], x_values)) / theta[2]\n",
        "\n",
        "  plt.figure(figsize=(13,10))\n",
        "  plt.plot(x_values, y_values, linewidth = 3, color = 'black', label='Граница классов')\n",
        "  plotData(df['noise'][df['class'] == 0], df['rotation'][df['class'] == 0], 250, '>', 'green', 'Исправен' )\n",
        "  plotData(df['noise'][df['class'] == 1], df['rotation'][df['class'] == 1], 250, '<', 'red', 'Поломка')\n",
        "\n",
        "  plt.show()"
      ],
      "metadata": {
        "id": "BsLExpDX9xqd"
      },
      "id": "BsLExpDX9xqd",
      "execution_count": null,
      "outputs": []
    },
    {
      "cell_type": "code",
      "execution_count": null,
      "id": "7c06e33a",
      "metadata": {
        "scrolled": false,
        "id": "7c06e33a"
      },
      "outputs": [],
      "source": [
        "plotDecisionBoundary(X, theta, df)"
      ]
    },
    {
      "cell_type": "markdown",
      "id": "86d59ed1",
      "metadata": {
        "id": "86d59ed1"
      },
      "source": [
        "## Задание 4: Предсказание и оценка точности"
      ]
    },
    {
      "cell_type": "markdown",
      "id": "65f54121",
      "metadata": {
        "id": "65f54121"
      },
      "source": [
        "  После выполнения обучения следует обеспечить предсказание для тех\n",
        "  данных, которые не были использованы в процессе обучения, т.е. данных,\n",
        "  которые возникают в процессе эксплуатации автомобиля.\n",
        "  В этом задании, логистическая регрессия используется для предсказания\n",
        "  вероятности того, что двигатель, состояние которого характеризуется\n",
        "  следующими параметрами, шум - 45 ед., вибрация - 85 ед, является\n",
        "  исправным.\n",
        "\n",
        "  Более того, Вам предстоит вычислить точность (погрешность)\n",
        "  используемой логистической модели.\n",
        "\n",
        "  Задача состоит в завершении кода predict.m\n",
        "\n",
        "  Определение вероятности работоспособности или отказа двигателя,\n",
        "  состояние которого характеризуется следующими параметрами, шум - 45 ед.,\n",
        "  вибрация - 85 ед."
      ]
    },
    {
      "cell_type": "code",
      "execution_count": null,
      "id": "cd5a26d1",
      "metadata": {
        "id": "cd5a26d1"
      },
      "outputs": [],
      "source": [
        "prob = sigmoid(np.array([1, 45, 85]).dot(theta[:, np.newaxis]))"
      ]
    },
    {
      "cell_type": "code",
      "execution_count": null,
      "id": "16bf8137",
      "metadata": {
        "id": "16bf8137"
      },
      "outputs": [],
      "source": [
        "print('Для двигателя с уровнем шума 45 и вибрацией 85, предсказывается поломка с вероятностью:  {:.2%} \\n'.format(prob[0]))"
      ]
    },
    {
      "cell_type": "code",
      "execution_count": null,
      "id": "2123cf2c",
      "metadata": {
        "id": "2123cf2c"
      },
      "outputs": [],
      "source": [
        "def predict(x, y, threshold=0.5):\n",
        "  \"\"\"\n",
        "  PREDICT Отнесение образца к классам 0 или 1 (\"исправен\" или \"не исправен\")\n",
        "  в процессе линейной регрессии на основании оценки theta\n",
        "  PREDICT обеспечивает классификацию X с пороговым\n",
        "  значением 0.5 (т.е., если значение сигмоидной функции\n",
        "  sigmoid(theta'*x) >= 0.5, то присвоение 1)\n",
        "  \"\"\"\n",
        "  # Ваш код здесь\n",
        "\n",
        "  return accuracy"
      ]
    },
    {
      "cell_type": "code",
      "execution_count": null,
      "id": "e66362c5",
      "metadata": {
        "id": "e66362c5"
      },
      "outputs": [],
      "source": [
        "print('Точность обучения: {:.0%} \\n'.format(predict(X, y)/100))"
      ]
    },
    {
      "cell_type": "markdown",
      "id": "82dd31b0",
      "metadata": {
        "id": "82dd31b0"
      },
      "source": [
        "## Задание 5: Регуляризованная логистическая регрессия\n",
        "\n",
        "Исследуемые данные не являются линейно сепарабельными и, следовательно, не могут быть разделены на положительный и отрицательный классы прямой линией. Поэтому буквальное применение метода простой  логистической регрессии не подходит в данном примере, поскольку он подразумевает прямолинейную границу раздела двух областей. Тем не менее, использование логистической регрессии возможно, а именно, посредством применения полиноминальных признаков, подобно полиноминальной регрессии."
      ]
    },
    {
      "cell_type": "markdown",
      "id": "69cd7ce4",
      "metadata": {
        "id": "69cd7ce4"
      },
      "source": [
        "## Инициализация"
      ]
    },
    {
      "cell_type": "code",
      "execution_count": null,
      "id": "95f41e80",
      "metadata": {
        "id": "95f41e80"
      },
      "outputs": [],
      "source": [
        "data = pd.read_csv('test.csv')"
      ]
    },
    {
      "cell_type": "code",
      "execution_count": null,
      "id": "a93ab680",
      "metadata": {
        "scrolled": true,
        "id": "a93ab680"
      },
      "outputs": [],
      "source": [
        "data.head()"
      ]
    },
    {
      "cell_type": "code",
      "execution_count": null,
      "id": "b3e7564c",
      "metadata": {
        "id": "b3e7564c"
      },
      "outputs": [],
      "source": [
        "data.describe()"
      ]
    },
    {
      "cell_type": "code",
      "execution_count": null,
      "id": "761423b5",
      "metadata": {
        "id": "761423b5"
      },
      "outputs": [],
      "source": [
        "m = len(data)\n",
        "x = np.array(data['test_1'])\n",
        "temp = np.array(data['test_2'])\n",
        "y = np.array(data['class'])\n",
        "\n",
        "x = x.reshape((m, 1))\n",
        "temp = temp.reshape((m, 1))\n",
        "y = y.reshape((m, 1))\n",
        "X = np.hstack((temp,x))\n",
        "print(X[0:5])"
      ]
    },
    {
      "cell_type": "code",
      "execution_count": null,
      "id": "6058c50a",
      "metadata": {
        "id": "6058c50a"
      },
      "outputs": [],
      "source": [
        "plt.figure(figsize=(13,10))\n",
        "plotData(data['test_1'][data['class'] == 0], data['test_2'][data['class'] == 0], 200, 'o', 'blue', 'Class 1' )\n",
        "plotData(data['test_1'][data['class'] == 1], data['test_2'][data['class'] == 1], 200, 's', 'orange', 'Class 2')\n",
        "plt.xlabel('Test 1')\n",
        "plt.ylabel('Test 2')\n",
        "plt.show()"
      ]
    },
    {
      "cell_type": "code",
      "execution_count": null,
      "id": "57219603",
      "metadata": {
        "id": "57219603"
      },
      "outputs": [],
      "source": [
        "def mapFeature(X1, X2):\n",
        "    degree = 6\n",
        "    out = np.ones(( X1.shape[0], sum(range(degree + 2)) ))\n",
        "    curr_column = 1\n",
        "    for i in range(1, degree + 1):\n",
        "        for j in range(i+1):\n",
        "            out[:,curr_column] = np.power(X1,i-j) * np.power(X2,j)\n",
        "            curr_column += 1\n",
        "    return out"
      ]
    },
    {
      "cell_type": "code",
      "execution_count": null,
      "id": "60c75032",
      "metadata": {
        "id": "60c75032"
      },
      "outputs": [],
      "source": [
        "X = mapFeature(X[:,0], X[:,1])"
      ]
    },
    {
      "cell_type": "code",
      "source": [
        "X.shape"
      ],
      "metadata": {
        "id": "ML27ovwfhNe7"
      },
      "id": "ML27ovwfhNe7",
      "execution_count": null,
      "outputs": []
    },
    {
      "cell_type": "code",
      "execution_count": null,
      "id": "2c666708",
      "metadata": {
        "id": "2c666708"
      },
      "outputs": [],
      "source": [
        "initial_theta = np.zeros((X.shape[1], 1))\n",
        "initial_theta"
      ]
    },
    {
      "cell_type": "markdown",
      "id": "a29e0ce0",
      "metadata": {
        "id": "a29e0ce0"
      },
      "source": [
        "Вычисление и отображение начальных значений функции стоимости и\n",
        "градиента для регуляризованной логистической регрессии"
      ]
    },
    {
      "cell_type": "code",
      "execution_count": null,
      "id": "0b8c3134",
      "metadata": {
        "id": "0b8c3134"
      },
      "outputs": [],
      "source": [
        "def costFunctionReg(theta, X, y, lambda_reg):\n",
        "  \"\"\"\n",
        "  Вычисление функции стоимости и значения градиента(ов)для\n",
        "  задачи логистической регрессии с регуляризацией\n",
        "  costFunctionReg(theta, X, y, lambda_reg) вычисляет функцию стоимости, используя\n",
        "  theta в качестве параметра логистической регрессии, а также значение(я)\n",
        "  градиентов\n",
        "  \"\"\"\n",
        "  # Ваш код здесь\n",
        "  m = len(y)\n",
        "  J = 0\n",
        "\n",
        "  return J"
      ]
    },
    {
      "cell_type": "code",
      "execution_count": null,
      "id": "a0244e4e",
      "metadata": {
        "id": "a0244e4e"
      },
      "outputs": [],
      "source": [
        "cost = costFunctionReg(initial_theta, X, y, 1)"
      ]
    },
    {
      "cell_type": "code",
      "execution_count": null,
      "id": "4c775609",
      "metadata": {
        "id": "4c775609"
      },
      "outputs": [],
      "source": [
        "print('Значение функции стоимости при начальном значении theta (zeros):', cost)"
      ]
    },
    {
      "cell_type": "code",
      "execution_count": null,
      "id": "a7186435",
      "metadata": {
        "id": "a7186435"
      },
      "outputs": [],
      "source": [
        "def gradFunctionReg(theta, X, y, lambda_reg):\n",
        "    grad = np.zeros(theta.shape)\n",
        "    grad = (1./m) * np.dot(sigmoid( np.dot(X,theta) ).T - y, X).T + ( float(lambda_reg) / m )*theta\n",
        "\n",
        "    return  grad.flatten()"
      ]
    },
    {
      "cell_type": "code",
      "execution_count": null,
      "id": "037cf22c",
      "metadata": {
        "id": "037cf22c"
      },
      "outputs": [],
      "source": [
        "gradFunctionReg(initial_theta, X, y, 1)"
      ]
    },
    {
      "cell_type": "markdown",
      "id": "766af019",
      "metadata": {
        "id": "766af019"
      },
      "source": [
        "## Задание 6: Регуляризация и точность"
      ]
    },
    {
      "cell_type": "markdown",
      "id": "dff2c1d7",
      "metadata": {
        "id": "dff2c1d7"
      },
      "source": [
        "Дополнительное задание:\n",
        "В этом задании, варьируя значения lambda, выяснить влияние регуляризации на поведение\n",
        "границы разделения классов\n",
        "\n",
        "Указание: Продемонстрировать эффект для lambda (0, 1, 10, 100)."
      ]
    },
    {
      "cell_type": "code",
      "execution_count": null,
      "id": "56406f01",
      "metadata": {
        "scrolled": false,
        "id": "56406f01"
      },
      "outputs": [],
      "source": [
        "def plotDecisionBoundary(theta, lambda_reg):\n",
        "    plt.figure(figsize=(10,10))\n",
        "\n",
        "    plotData(data['test_1'][data['class'] == 0], data['test_2'][data['class'] == 0], 200, 'o', 'blue', 'Class 1' )\n",
        "    plotData(data['test_1'][data['class'] == 1], data['test_2'][data['class'] == 1], 200, 's', 'orange', 'Class 2')\n",
        "\n",
        "\n",
        "    u = np.linspace(-1, 1.5, 50)\n",
        "    v = np.linspace(-1, 1.5, 50)\n",
        "    uu, vv = np.meshgrid(u, v)\n",
        "    z = np.zeros(( len(u), len(v) ))\n",
        "\n",
        "\n",
        "    for i in range(len(u)):\n",
        "        for j in range(len(v)):\n",
        "            z[i,j] = np.dot(mapFeature(np.array([u[i]]), np.array([v[j]])),theta)\n",
        "    z = np.transpose(z)\n",
        "\n",
        "    plt.contour(u, v, z, levels=[0], colors='black', linewidths=3)\n",
        "    plt.title('\\n lambda = {:d}, Точность обучения: {:.2%} \\n'.format(lambda_reg, accuracy(X, y)/100), fontsize=20)\n",
        "\n",
        "    plt.xlabel('Test 1', fontsize=20)\n",
        "    plt.ylabel('Test 2', fontsize=20)\n",
        "    plt.yticks(size = 15)\n",
        "    plt.xticks(size = 15)\n",
        "    plt.yticks(size = 15)\n",
        "    plt.xticks(size = 15)\n",
        "    plt.legend(fontsize=15)\n",
        "    plt.show()\n"
      ]
    },
    {
      "cell_type": "code",
      "execution_count": null,
      "id": "bb3db3e1",
      "metadata": {
        "scrolled": false,
        "id": "bb3db3e1"
      },
      "outputs": [],
      "source": [
        "from scipy.optimize import fmin_bfgs\n",
        "lambda_reg = [0, 1, 10, 100, 150]\n",
        "\n",
        "for lambda_i in lambda_reg:\n",
        "    myargs=(X, y, lambda_i)\n",
        "    theta = fmin_bfgs(costFunctionReg, x0 = initial_theta, args = myargs)\n",
        "    plotDecisionBoundary(theta, lambda_i)"
      ]
    },
    {
      "cell_type": "code",
      "execution_count": null,
      "id": "67df0629",
      "metadata": {
        "id": "67df0629"
      },
      "outputs": [],
      "source": [
        "lambda_reg = 0\n",
        "myargs=(X, y, lambda_reg)\n",
        "theta = fmin_bfgs(costFunctionReg, x0 = initial_theta, args = myargs)"
      ]
    },
    {
      "cell_type": "code",
      "execution_count": null,
      "id": "9ba82ca0",
      "metadata": {
        "id": "9ba82ca0"
      },
      "outputs": [],
      "source": [
        "print('Максимальная точность обучения: {:.2%} \\n'.format(predict(X, y)/100))"
      ]
    }
  ],
  "metadata": {
    "kernelspec": {
      "display_name": "Python 3",
      "language": "python",
      "name": "python3"
    },
    "language_info": {
      "codemirror_mode": {
        "name": "ipython",
        "version": 3
      },
      "file_extension": ".py",
      "mimetype": "text/x-python",
      "name": "python",
      "nbconvert_exporter": "python",
      "pygments_lexer": "ipython3",
      "version": "3.8.8"
    },
    "colab": {
      "provenance": []
    }
  },
  "nbformat": 4,
  "nbformat_minor": 5
}